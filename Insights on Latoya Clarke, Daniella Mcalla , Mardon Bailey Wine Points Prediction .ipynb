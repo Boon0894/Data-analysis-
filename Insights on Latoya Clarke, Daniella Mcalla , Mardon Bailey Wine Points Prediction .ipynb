{
 "cells": [
  {
   "cell_type": "markdown",
   "metadata": {},
   "source": [
    "## Insights on Latoya Clarke, Daniella Mcalla , Mardon Bailey Wine Points Prediction \n",
    "\n",
    "From IreneTwo (30/3/2019):\n",
    "\n",
    "Here I'll share my insights/ probems on analysing wine points prediction, the original codes are prepared By Latoya Clarke, Daniella Mcalla , Mardon Bailey on https://www.kaggle.com/latoyaclarke/knowledge-discovery-in-databases-kdd. I do not own these codes & I did some minor modification on the codes.\n",
    "\n",
    "What will be covered:\n",
    "- instance / parameters explanation and how these are being used for data analysis/ machine learning\n",
    "- data-preprocessing techniques\n",
    "- prediction analysis: Decision Tree Regressor (DTR) and Multi-Layer Perceptron Regressor (MLPR).\n",
    "to predict the points Roger Voss would give a wine\n",
    "- Decision Tree Regressor (DTR)\n",
    "- Multi-Layer Perceptron Regressor (MLPR)."
   ]
  },
  {
   "cell_type": "markdown",
   "metadata": {},
   "source": [
    "## matplotlib.rcParams\n",
    "An instance of RcParams for handling default matplotlib values.\n",
    "\n",
    "the sklearn.metrics module includes score functions, performance metrics and pairwise metrics and distance computations.\n",
    "\n",
    "## sklearn.metrics.mean_squared_error\n",
    "(y_true, y_pred, sample_weight=None, multioutput=’uniform_average’)\n",
    "To analyse mean squared error regression loss later"
   ]
  },
  {
   "cell_type": "code",
   "execution_count": 4,
   "metadata": {},
   "outputs": [],
   "source": [
    "# melier : A wine expert/specialist. A knowledgeable wine professional\n",
    "###### Wine Tasting Review:  sensory examination and evaluation of a wine. (i.e. taste, smell, feel & look of wine)\n",
    "###### Vintage Year : The year on a bottle of wine which denotes that most if not all the grapes used to make that bottle of wine were harvested in that pecified year\n",
    "\n",
    "# Libraries needed \n",
    "import numpy as np\n",
    "import pandas as pd\n",
    "import matplotlib.pyplot as plt\n",
    "import seaborn as sns\n",
    "from sklearn.metrics import mean_squared_error,mean_absolute_error\n",
    "import math\n",
    "import warnings\n",
    "import re\n",
    "warnings.filterwarnings('ignore')\n",
    "%matplotlib inline\n",
    "#random_state = 1\n",
    "plt.rcParams['figure.figsize']=8,8\n"
   ]
  },
  {
   "cell_type": "code",
   "execution_count": 6,
   "metadata": {},
   "outputs": [],
   "source": [
    "# load wine dataset into notebook\n",
    "data_path = r'C:\\Users\\Aspire\\Downloads\\winemag-data-130k-v2.csv'\n",
    "wine_data = pd.read_csv(data_path)"
   ]
  },
  {
   "cell_type": "markdown",
   "metadata": {},
   "source": [
    "## What will be carried out later on\n",
    "- brief view on first and last few elements in dataset\n",
    "- gain useful info about the data\n",
    "- data cleaning\n",
    "- Display Distribution of points for initial dataset\n",
    "- Data visualization"
   ]
  },
  {
   "cell_type": "code",
   "execution_count": 7,
   "metadata": {},
   "outputs": [
    {
     "name": "stdout",
     "output_type": "stream",
     "text": [
      "Wine Data Dimension: (129971, 14)\n"
     ]
    },
    {
     "data": {
      "text/html": [
       "<div>\n",
       "<style scoped>\n",
       "    .dataframe tbody tr th:only-of-type {\n",
       "        vertical-align: middle;\n",
       "    }\n",
       "\n",
       "    .dataframe tbody tr th {\n",
       "        vertical-align: top;\n",
       "    }\n",
       "\n",
       "    .dataframe thead th {\n",
       "        text-align: right;\n",
       "    }\n",
       "</style>\n",
       "<table border=\"1\" class=\"dataframe\">\n",
       "  <thead>\n",
       "    <tr style=\"text-align: right;\">\n",
       "      <th></th>\n",
       "      <th>Unnamed: 0</th>\n",
       "      <th>country</th>\n",
       "      <th>description</th>\n",
       "      <th>designation</th>\n",
       "      <th>points</th>\n",
       "      <th>price</th>\n",
       "      <th>province</th>\n",
       "      <th>region_1</th>\n",
       "      <th>region_2</th>\n",
       "      <th>taster_name</th>\n",
       "      <th>taster_twitter_handle</th>\n",
       "      <th>title</th>\n",
       "      <th>variety</th>\n",
       "      <th>winery</th>\n",
       "    </tr>\n",
       "  </thead>\n",
       "  <tbody>\n",
       "    <tr>\n",
       "      <th>0</th>\n",
       "      <td>0</td>\n",
       "      <td>Italy</td>\n",
       "      <td>Aromas include tropical fruit, broom, brimston...</td>\n",
       "      <td>Vulkà Bianco</td>\n",
       "      <td>87</td>\n",
       "      <td>NaN</td>\n",
       "      <td>Sicily &amp; Sardinia</td>\n",
       "      <td>Etna</td>\n",
       "      <td>NaN</td>\n",
       "      <td>Kerin O’Keefe</td>\n",
       "      <td>@kerinokeefe</td>\n",
       "      <td>Nicosia 2013 Vulkà Bianco  (Etna)</td>\n",
       "      <td>White Blend</td>\n",
       "      <td>Nicosia</td>\n",
       "    </tr>\n",
       "    <tr>\n",
       "      <th>1</th>\n",
       "      <td>1</td>\n",
       "      <td>Portugal</td>\n",
       "      <td>This is ripe and fruity, a wine that is smooth...</td>\n",
       "      <td>Avidagos</td>\n",
       "      <td>87</td>\n",
       "      <td>15.0</td>\n",
       "      <td>Douro</td>\n",
       "      <td>NaN</td>\n",
       "      <td>NaN</td>\n",
       "      <td>Roger Voss</td>\n",
       "      <td>@vossroger</td>\n",
       "      <td>Quinta dos Avidagos 2011 Avidagos Red (Douro)</td>\n",
       "      <td>Portuguese Red</td>\n",
       "      <td>Quinta dos Avidagos</td>\n",
       "    </tr>\n",
       "    <tr>\n",
       "      <th>2</th>\n",
       "      <td>2</td>\n",
       "      <td>US</td>\n",
       "      <td>Tart and snappy, the flavors of lime flesh and...</td>\n",
       "      <td>NaN</td>\n",
       "      <td>87</td>\n",
       "      <td>14.0</td>\n",
       "      <td>Oregon</td>\n",
       "      <td>Willamette Valley</td>\n",
       "      <td>Willamette Valley</td>\n",
       "      <td>Paul Gregutt</td>\n",
       "      <td>@paulgwine</td>\n",
       "      <td>Rainstorm 2013 Pinot Gris (Willamette Valley)</td>\n",
       "      <td>Pinot Gris</td>\n",
       "      <td>Rainstorm</td>\n",
       "    </tr>\n",
       "  </tbody>\n",
       "</table>\n",
       "</div>"
      ],
      "text/plain": [
       "   Unnamed: 0   country                                        description  \\\n",
       "0           0     Italy  Aromas include tropical fruit, broom, brimston...   \n",
       "1           1  Portugal  This is ripe and fruity, a wine that is smooth...   \n",
       "2           2        US  Tart and snappy, the flavors of lime flesh and...   \n",
       "\n",
       "    designation  points  price           province           region_1  \\\n",
       "0  Vulkà Bianco      87    NaN  Sicily & Sardinia               Etna   \n",
       "1      Avidagos      87   15.0              Douro                NaN   \n",
       "2           NaN      87   14.0             Oregon  Willamette Valley   \n",
       "\n",
       "            region_2    taster_name taster_twitter_handle  \\\n",
       "0                NaN  Kerin O’Keefe          @kerinokeefe   \n",
       "1                NaN     Roger Voss            @vossroger   \n",
       "2  Willamette Valley   Paul Gregutt           @paulgwine    \n",
       "\n",
       "                                           title         variety  \\\n",
       "0              Nicosia 2013 Vulkà Bianco  (Etna)     White Blend   \n",
       "1  Quinta dos Avidagos 2011 Avidagos Red (Douro)  Portuguese Red   \n",
       "2  Rainstorm 2013 Pinot Gris (Willamette Valley)      Pinot Gris   \n",
       "\n",
       "                winery  \n",
       "0              Nicosia  \n",
       "1  Quinta dos Avidagos  \n",
       "2            Rainstorm  "
      ]
     },
     "execution_count": 7,
     "metadata": {},
     "output_type": "execute_result"
    }
   ],
   "source": [
    "print(\"Wine Data Dimension:\",wine_data.shape)\n",
    "wine_data.head(3) #disply first 5 elements in dataset"
   ]
  },
  {
   "cell_type": "code",
   "execution_count": 8,
   "metadata": {},
   "outputs": [
    {
     "data": {
      "text/html": [
       "<div>\n",
       "<style scoped>\n",
       "    .dataframe tbody tr th:only-of-type {\n",
       "        vertical-align: middle;\n",
       "    }\n",
       "\n",
       "    .dataframe tbody tr th {\n",
       "        vertical-align: top;\n",
       "    }\n",
       "\n",
       "    .dataframe thead th {\n",
       "        text-align: right;\n",
       "    }\n",
       "</style>\n",
       "<table border=\"1\" class=\"dataframe\">\n",
       "  <thead>\n",
       "    <tr style=\"text-align: right;\">\n",
       "      <th></th>\n",
       "      <th>Unnamed: 0</th>\n",
       "      <th>country</th>\n",
       "      <th>description</th>\n",
       "      <th>designation</th>\n",
       "      <th>points</th>\n",
       "      <th>price</th>\n",
       "      <th>province</th>\n",
       "      <th>region_1</th>\n",
       "      <th>region_2</th>\n",
       "      <th>taster_name</th>\n",
       "      <th>taster_twitter_handle</th>\n",
       "      <th>title</th>\n",
       "      <th>variety</th>\n",
       "      <th>winery</th>\n",
       "    </tr>\n",
       "  </thead>\n",
       "  <tbody>\n",
       "    <tr>\n",
       "      <th>129968</th>\n",
       "      <td>129968</td>\n",
       "      <td>France</td>\n",
       "      <td>Well-drained gravel soil gives this wine its c...</td>\n",
       "      <td>Kritt</td>\n",
       "      <td>90</td>\n",
       "      <td>30.0</td>\n",
       "      <td>Alsace</td>\n",
       "      <td>Alsace</td>\n",
       "      <td>NaN</td>\n",
       "      <td>Roger Voss</td>\n",
       "      <td>@vossroger</td>\n",
       "      <td>Domaine Gresser 2013 Kritt Gewurztraminer (Als...</td>\n",
       "      <td>Gewürztraminer</td>\n",
       "      <td>Domaine Gresser</td>\n",
       "    </tr>\n",
       "    <tr>\n",
       "      <th>129969</th>\n",
       "      <td>129969</td>\n",
       "      <td>France</td>\n",
       "      <td>A dry style of Pinot Gris, this is crisp with ...</td>\n",
       "      <td>NaN</td>\n",
       "      <td>90</td>\n",
       "      <td>32.0</td>\n",
       "      <td>Alsace</td>\n",
       "      <td>Alsace</td>\n",
       "      <td>NaN</td>\n",
       "      <td>Roger Voss</td>\n",
       "      <td>@vossroger</td>\n",
       "      <td>Domaine Marcel Deiss 2012 Pinot Gris (Alsace)</td>\n",
       "      <td>Pinot Gris</td>\n",
       "      <td>Domaine Marcel Deiss</td>\n",
       "    </tr>\n",
       "    <tr>\n",
       "      <th>129970</th>\n",
       "      <td>129970</td>\n",
       "      <td>France</td>\n",
       "      <td>Big, rich and off-dry, this is powered by inte...</td>\n",
       "      <td>Lieu-dit Harth Cuvée Caroline</td>\n",
       "      <td>90</td>\n",
       "      <td>21.0</td>\n",
       "      <td>Alsace</td>\n",
       "      <td>Alsace</td>\n",
       "      <td>NaN</td>\n",
       "      <td>Roger Voss</td>\n",
       "      <td>@vossroger</td>\n",
       "      <td>Domaine Schoffit 2012 Lieu-dit Harth Cuvée Car...</td>\n",
       "      <td>Gewürztraminer</td>\n",
       "      <td>Domaine Schoffit</td>\n",
       "    </tr>\n",
       "  </tbody>\n",
       "</table>\n",
       "</div>"
      ],
      "text/plain": [
       "        Unnamed: 0 country                                        description  \\\n",
       "129968      129968  France  Well-drained gravel soil gives this wine its c...   \n",
       "129969      129969  France  A dry style of Pinot Gris, this is crisp with ...   \n",
       "129970      129970  France  Big, rich and off-dry, this is powered by inte...   \n",
       "\n",
       "                          designation  points  price province region_1  \\\n",
       "129968                          Kritt      90   30.0   Alsace   Alsace   \n",
       "129969                            NaN      90   32.0   Alsace   Alsace   \n",
       "129970  Lieu-dit Harth Cuvée Caroline      90   21.0   Alsace   Alsace   \n",
       "\n",
       "       region_2 taster_name taster_twitter_handle  \\\n",
       "129968      NaN  Roger Voss            @vossroger   \n",
       "129969      NaN  Roger Voss            @vossroger   \n",
       "129970      NaN  Roger Voss            @vossroger   \n",
       "\n",
       "                                                    title         variety  \\\n",
       "129968  Domaine Gresser 2013 Kritt Gewurztraminer (Als...  Gewürztraminer   \n",
       "129969      Domaine Marcel Deiss 2012 Pinot Gris (Alsace)      Pinot Gris   \n",
       "129970  Domaine Schoffit 2012 Lieu-dit Harth Cuvée Car...  Gewürztraminer   \n",
       "\n",
       "                      winery  \n",
       "129968       Domaine Gresser  \n",
       "129969  Domaine Marcel Deiss  \n",
       "129970      Domaine Schoffit  "
      ]
     },
     "execution_count": 8,
     "metadata": {},
     "output_type": "execute_result"
    }
   ],
   "source": [
    "wine_data.tail(3) #displays last 3 elements in dataset"
   ]
  },
  {
   "cell_type": "code",
   "execution_count": 9,
   "metadata": {},
   "outputs": [
    {
     "data": {
      "text/plain": [
       "Index(['Unnamed: 0', 'country', 'description', 'designation', 'points',\n",
       "       'price', 'province', 'region_1', 'region_2', 'taster_name',\n",
       "       'taster_twitter_handle', 'title', 'variety', 'winery'],\n",
       "      dtype='object')"
      ]
     },
     "execution_count": 9,
     "metadata": {},
     "output_type": "execute_result"
    }
   ],
   "source": [
    "# check to see if there are spaces in column names\n",
    "wine_data.columns"
   ]
  },
  {
   "cell_type": "code",
   "execution_count": 10,
   "metadata": {},
   "outputs": [
    {
     "data": {
      "text/html": [
       "<div>\n",
       "<style scoped>\n",
       "    .dataframe tbody tr th:only-of-type {\n",
       "        vertical-align: middle;\n",
       "    }\n",
       "\n",
       "    .dataframe tbody tr th {\n",
       "        vertical-align: top;\n",
       "    }\n",
       "\n",
       "    .dataframe thead th {\n",
       "        text-align: right;\n",
       "    }\n",
       "</style>\n",
       "<table border=\"1\" class=\"dataframe\">\n",
       "  <thead>\n",
       "    <tr style=\"text-align: right;\">\n",
       "      <th></th>\n",
       "      <th>Unnamed: 0</th>\n",
       "      <th>points</th>\n",
       "      <th>price</th>\n",
       "    </tr>\n",
       "  </thead>\n",
       "  <tbody>\n",
       "    <tr>\n",
       "      <th>count</th>\n",
       "      <td>129971.000000</td>\n",
       "      <td>129971.000000</td>\n",
       "      <td>120975.000000</td>\n",
       "    </tr>\n",
       "    <tr>\n",
       "      <th>mean</th>\n",
       "      <td>64985.000000</td>\n",
       "      <td>88.447138</td>\n",
       "      <td>35.363389</td>\n",
       "    </tr>\n",
       "    <tr>\n",
       "      <th>std</th>\n",
       "      <td>37519.540256</td>\n",
       "      <td>3.039730</td>\n",
       "      <td>41.022218</td>\n",
       "    </tr>\n",
       "    <tr>\n",
       "      <th>min</th>\n",
       "      <td>0.000000</td>\n",
       "      <td>80.000000</td>\n",
       "      <td>4.000000</td>\n",
       "    </tr>\n",
       "    <tr>\n",
       "      <th>25%</th>\n",
       "      <td>32492.500000</td>\n",
       "      <td>86.000000</td>\n",
       "      <td>17.000000</td>\n",
       "    </tr>\n",
       "    <tr>\n",
       "      <th>50%</th>\n",
       "      <td>64985.000000</td>\n",
       "      <td>88.000000</td>\n",
       "      <td>25.000000</td>\n",
       "    </tr>\n",
       "    <tr>\n",
       "      <th>75%</th>\n",
       "      <td>97477.500000</td>\n",
       "      <td>91.000000</td>\n",
       "      <td>42.000000</td>\n",
       "    </tr>\n",
       "    <tr>\n",
       "      <th>max</th>\n",
       "      <td>129970.000000</td>\n",
       "      <td>100.000000</td>\n",
       "      <td>3300.000000</td>\n",
       "    </tr>\n",
       "  </tbody>\n",
       "</table>\n",
       "</div>"
      ],
      "text/plain": [
       "          Unnamed: 0         points          price\n",
       "count  129971.000000  129971.000000  120975.000000\n",
       "mean    64985.000000      88.447138      35.363389\n",
       "std     37519.540256       3.039730      41.022218\n",
       "min         0.000000      80.000000       4.000000\n",
       "25%     32492.500000      86.000000      17.000000\n",
       "50%     64985.000000      88.000000      25.000000\n",
       "75%     97477.500000      91.000000      42.000000\n",
       "max    129970.000000     100.000000    3300.000000"
      ]
     },
     "execution_count": 10,
     "metadata": {},
     "output_type": "execute_result"
    }
   ],
   "source": [
    "wine_data.describe()"
   ]
  },
  {
   "cell_type": "code",
   "execution_count": 11,
   "metadata": {},
   "outputs": [
    {
     "name": "stdout",
     "output_type": "stream",
     "text": [
      "<class 'pandas.core.frame.DataFrame'>\n",
      "RangeIndex: 129971 entries, 0 to 129970\n",
      "Data columns (total 14 columns):\n",
      "Unnamed: 0               129971 non-null int64\n",
      "country                  129908 non-null object\n",
      "description              129971 non-null object\n",
      "designation              92506 non-null object\n",
      "points                   129971 non-null int64\n",
      "price                    120975 non-null float64\n",
      "province                 129908 non-null object\n",
      "region_1                 108724 non-null object\n",
      "region_2                 50511 non-null object\n",
      "taster_name              103727 non-null object\n",
      "taster_twitter_handle    98758 non-null object\n",
      "title                    129971 non-null object\n",
      "variety                  129970 non-null object\n",
      "winery                   129971 non-null object\n",
      "dtypes: float64(1), int64(2), object(11)\n",
      "memory usage: 13.9+ MB\n"
     ]
    }
   ],
   "source": [
    "# Useful information about the data\n",
    "wine_data.info()"
   ]
  },
  {
   "cell_type": "code",
   "execution_count": 12,
   "metadata": {},
   "outputs": [
    {
     "data": {
      "text/plain": [
       "Text(0.5, 1.0, 'Fig.1: Points Distribution')"
      ]
     },
     "execution_count": 12,
     "metadata": {},
     "output_type": "execute_result"
    },
    {
     "data": {
      "image/png": "[encoded data removed]",
      "text/plain": [
       "<Figure size 576x576 with 1 Axes>"
      ]
     },
     "metadata": {
      "needs_background": "light"
     },
     "output_type": "display_data"
    }
   ],
   "source": [
    "# Distribution of points for initial dataset\n",
    "sns.distplot(wine_data.points) \n",
    "plt.xlabel(\"Points\",size=15)\n",
    "plt.title(\"Fig.1: Points Distribution\", size=20)"
   ]
  },
  {
   "cell_type": "markdown",
   "metadata": {},
   "source": [
    "## Wine Tasters and the Amount of Wines Evaluated\n",
    "use value_counts() to display data in DESCENDING order, to find frequency series\n",
    "\n",
    "plot(kind='line') will return data in line graph, while plot(kind='bar') will return data in bar graph.\n",
    "\n",
    "why use plt.xticks: Get or set the x-limits of the current tick locations and labels.\n"
   ]
  },
  {
   "cell_type": "code",
   "execution_count": 13,
   "metadata": {},
   "outputs": [
    {
     "data": {
      "text/plain": [
       "Text(0.5, 1.0, 'Fig. 2: Wine Tasters and the Amount of Wines Evaluated')"
      ]
     },
     "execution_count": 13,
     "metadata": {},
     "output_type": "execute_result"
    },
    {
     "data": {
      "image/png": "[encoded data removed]",
      "text/plain": [
       "<Figure size 576x576 with 1 Axes>"
      ]
     },
     "metadata": {
      "needs_background": "light"
     },
     "output_type": "display_data"
    }
   ],
   "source": [
    "\n",
    "wine_data['taster_name'].value_counts().plot(kind='bar')\n",
    "plt.xticks(fontsize=11)\n",
    "plt.xlabel(\"Taster Names\",size=15)\n",
    "plt.ylabel('No. of wines tasted', size=15)\n",
    "plt.title(\"Fig. 2: Wine Tasters and the Amount of Wines Evaluated\", size=20)"
   ]
  },
  {
   "cell_type": "markdown",
   "metadata": {},
   "source": [
    "Refer code below: \n",
    "Equal sign \"==\" : 1 == 1 is a equality check which simply means “Is 1 equal to 1?”"
   ]
  },
  {
   "cell_type": "code",
   "execution_count": 14,
   "metadata": {},
   "outputs": [
    {
     "name": "stdout",
     "output_type": "stream",
     "text": [
      "Wine Data Sample Dimension: (25514, 14) (i.e. Wines evaluated by Roger Voss)\n"
     ]
    },
    {
     "data": {
      "text/html": [
       "<div>\n",
       "<style scoped>\n",
       "    .dataframe tbody tr th:only-of-type {\n",
       "        vertical-align: middle;\n",
       "    }\n",
       "\n",
       "    .dataframe tbody tr th {\n",
       "        vertical-align: top;\n",
       "    }\n",
       "\n",
       "    .dataframe thead th {\n",
       "        text-align: right;\n",
       "    }\n",
       "</style>\n",
       "<table border=\"1\" class=\"dataframe\">\n",
       "  <thead>\n",
       "    <tr style=\"text-align: right;\">\n",
       "      <th></th>\n",
       "      <th>Unnamed: 0</th>\n",
       "      <th>country</th>\n",
       "      <th>description</th>\n",
       "      <th>designation</th>\n",
       "      <th>points</th>\n",
       "      <th>price</th>\n",
       "      <th>province</th>\n",
       "      <th>region_1</th>\n",
       "      <th>region_2</th>\n",
       "      <th>taster_name</th>\n",
       "      <th>taster_twitter_handle</th>\n",
       "      <th>title</th>\n",
       "      <th>variety</th>\n",
       "      <th>winery</th>\n",
       "    </tr>\n",
       "  </thead>\n",
       "  <tbody>\n",
       "    <tr>\n",
       "      <th>1</th>\n",
       "      <td>1</td>\n",
       "      <td>Portugal</td>\n",
       "      <td>This is ripe and fruity, a wine that is smooth...</td>\n",
       "      <td>Avidagos</td>\n",
       "      <td>87</td>\n",
       "      <td>15.0</td>\n",
       "      <td>Douro</td>\n",
       "      <td>NaN</td>\n",
       "      <td>NaN</td>\n",
       "      <td>Roger Voss</td>\n",
       "      <td>@vossroger</td>\n",
       "      <td>Quinta dos Avidagos 2011 Avidagos Red (Douro)</td>\n",
       "      <td>Portuguese Red</td>\n",
       "      <td>Quinta dos Avidagos</td>\n",
       "    </tr>\n",
       "    <tr>\n",
       "      <th>7</th>\n",
       "      <td>7</td>\n",
       "      <td>France</td>\n",
       "      <td>This dry and restrained wine offers spice in p...</td>\n",
       "      <td>NaN</td>\n",
       "      <td>87</td>\n",
       "      <td>24.0</td>\n",
       "      <td>Alsace</td>\n",
       "      <td>Alsace</td>\n",
       "      <td>NaN</td>\n",
       "      <td>Roger Voss</td>\n",
       "      <td>@vossroger</td>\n",
       "      <td>Trimbach 2012 Gewurztraminer (Alsace)</td>\n",
       "      <td>Gewürztraminer</td>\n",
       "      <td>Trimbach</td>\n",
       "    </tr>\n",
       "    <tr>\n",
       "      <th>9</th>\n",
       "      <td>9</td>\n",
       "      <td>France</td>\n",
       "      <td>This has great depth of flavor with its fresh ...</td>\n",
       "      <td>Les Natures</td>\n",
       "      <td>87</td>\n",
       "      <td>27.0</td>\n",
       "      <td>Alsace</td>\n",
       "      <td>Alsace</td>\n",
       "      <td>NaN</td>\n",
       "      <td>Roger Voss</td>\n",
       "      <td>@vossroger</td>\n",
       "      <td>Jean-Baptiste Adam 2012 Les Natures Pinot Gris...</td>\n",
       "      <td>Pinot Gris</td>\n",
       "      <td>Jean-Baptiste Adam</td>\n",
       "    </tr>\n",
       "    <tr>\n",
       "      <th>11</th>\n",
       "      <td>11</td>\n",
       "      <td>France</td>\n",
       "      <td>This is a dry wine, very spicy, with a tight, ...</td>\n",
       "      <td>NaN</td>\n",
       "      <td>87</td>\n",
       "      <td>30.0</td>\n",
       "      <td>Alsace</td>\n",
       "      <td>Alsace</td>\n",
       "      <td>NaN</td>\n",
       "      <td>Roger Voss</td>\n",
       "      <td>@vossroger</td>\n",
       "      <td>Leon Beyer 2012 Gewurztraminer (Alsace)</td>\n",
       "      <td>Gewürztraminer</td>\n",
       "      <td>Leon Beyer</td>\n",
       "    </tr>\n",
       "    <tr>\n",
       "      <th>30</th>\n",
       "      <td>30</td>\n",
       "      <td>France</td>\n",
       "      <td>Red cherry fruit comes laced with light tannin...</td>\n",
       "      <td>Nouveau</td>\n",
       "      <td>86</td>\n",
       "      <td>NaN</td>\n",
       "      <td>Beaujolais</td>\n",
       "      <td>Beaujolais-Villages</td>\n",
       "      <td>NaN</td>\n",
       "      <td>Roger Voss</td>\n",
       "      <td>@vossroger</td>\n",
       "      <td>Domaine de la Madone 2012 Nouveau  (Beaujolais...</td>\n",
       "      <td>Gamay</td>\n",
       "      <td>Domaine de la Madone</td>\n",
       "    </tr>\n",
       "  </tbody>\n",
       "</table>\n",
       "</div>"
      ],
      "text/plain": [
       "    Unnamed: 0   country                                        description  \\\n",
       "1            1  Portugal  This is ripe and fruity, a wine that is smooth...   \n",
       "7            7    France  This dry and restrained wine offers spice in p...   \n",
       "9            9    France  This has great depth of flavor with its fresh ...   \n",
       "11          11    France  This is a dry wine, very spicy, with a tight, ...   \n",
       "30          30    France  Red cherry fruit comes laced with light tannin...   \n",
       "\n",
       "    designation  points  price    province             region_1 region_2  \\\n",
       "1      Avidagos      87   15.0       Douro                  NaN      NaN   \n",
       "7           NaN      87   24.0      Alsace               Alsace      NaN   \n",
       "9   Les Natures      87   27.0      Alsace               Alsace      NaN   \n",
       "11          NaN      87   30.0      Alsace               Alsace      NaN   \n",
       "30      Nouveau      86    NaN  Beaujolais  Beaujolais-Villages      NaN   \n",
       "\n",
       "   taster_name taster_twitter_handle  \\\n",
       "1   Roger Voss            @vossroger   \n",
       "7   Roger Voss            @vossroger   \n",
       "9   Roger Voss            @vossroger   \n",
       "11  Roger Voss            @vossroger   \n",
       "30  Roger Voss            @vossroger   \n",
       "\n",
       "                                                title         variety  \\\n",
       "1       Quinta dos Avidagos 2011 Avidagos Red (Douro)  Portuguese Red   \n",
       "7               Trimbach 2012 Gewurztraminer (Alsace)  Gewürztraminer   \n",
       "9   Jean-Baptiste Adam 2012 Les Natures Pinot Gris...      Pinot Gris   \n",
       "11            Leon Beyer 2012 Gewurztraminer (Alsace)  Gewürztraminer   \n",
       "30  Domaine de la Madone 2012 Nouveau  (Beaujolais...           Gamay   \n",
       "\n",
       "                  winery  \n",
       "1    Quinta dos Avidagos  \n",
       "7               Trimbach  \n",
       "9     Jean-Baptiste Adam  \n",
       "11            Leon Beyer  \n",
       "30  Domaine de la Madone  "
      ]
     },
     "execution_count": 14,
     "metadata": {},
     "output_type": "execute_result"
    }
   ],
   "source": [
    "\n",
    "\n",
    "# Selecting sample of the data that will be used (i.e. the wines evaluated by Roger Voss)\n",
    "wine_data = wine_data[(wine_data['taster_name']=='Roger Voss') | (wine_data['taster_twitter_handle']=='@vossroger')]\n",
    "print(\"Wine Data Sample Dimension:\",wine_data.shape,\"(i.e. Wines evaluated by Roger Voss)\") #dataset dimension\n",
    "wine_data.head()"
   ]
  },
  {
   "cell_type": "code",
   "execution_count": 15,
   "metadata": {},
   "outputs": [
    {
     "data": {
      "text/html": [
       "<div>\n",
       "<style scoped>\n",
       "    .dataframe tbody tr th:only-of-type {\n",
       "        vertical-align: middle;\n",
       "    }\n",
       "\n",
       "    .dataframe tbody tr th {\n",
       "        vertical-align: top;\n",
       "    }\n",
       "\n",
       "    .dataframe thead th {\n",
       "        text-align: right;\n",
       "    }\n",
       "</style>\n",
       "<table border=\"1\" class=\"dataframe\">\n",
       "  <thead>\n",
       "    <tr style=\"text-align: right;\">\n",
       "      <th></th>\n",
       "      <th>Unnamed: 0</th>\n",
       "      <th>points</th>\n",
       "      <th>price</th>\n",
       "    </tr>\n",
       "  </thead>\n",
       "  <tbody>\n",
       "    <tr>\n",
       "      <th>count</th>\n",
       "      <td>25514.000000</td>\n",
       "      <td>25514.000000</td>\n",
       "      <td>20172.000000</td>\n",
       "    </tr>\n",
       "    <tr>\n",
       "      <th>mean</th>\n",
       "      <td>64480.295524</td>\n",
       "      <td>88.708003</td>\n",
       "      <td>38.649960</td>\n",
       "    </tr>\n",
       "    <tr>\n",
       "      <th>std</th>\n",
       "      <td>37486.514606</td>\n",
       "      <td>3.036373</td>\n",
       "      <td>71.540473</td>\n",
       "    </tr>\n",
       "    <tr>\n",
       "      <th>min</th>\n",
       "      <td>1.000000</td>\n",
       "      <td>80.000000</td>\n",
       "      <td>5.000000</td>\n",
       "    </tr>\n",
       "    <tr>\n",
       "      <th>25%</th>\n",
       "      <td>32051.250000</td>\n",
       "      <td>86.000000</td>\n",
       "      <td>15.000000</td>\n",
       "    </tr>\n",
       "    <tr>\n",
       "      <th>50%</th>\n",
       "      <td>63917.500000</td>\n",
       "      <td>88.000000</td>\n",
       "      <td>22.000000</td>\n",
       "    </tr>\n",
       "    <tr>\n",
       "      <th>75%</th>\n",
       "      <td>96872.750000</td>\n",
       "      <td>91.000000</td>\n",
       "      <td>40.000000</td>\n",
       "    </tr>\n",
       "    <tr>\n",
       "      <th>max</th>\n",
       "      <td>129970.000000</td>\n",
       "      <td>100.000000</td>\n",
       "      <td>3300.000000</td>\n",
       "    </tr>\n",
       "  </tbody>\n",
       "</table>\n",
       "</div>"
      ],
      "text/plain": [
       "          Unnamed: 0        points         price\n",
       "count   25514.000000  25514.000000  20172.000000\n",
       "mean    64480.295524     88.708003     38.649960\n",
       "std     37486.514606      3.036373     71.540473\n",
       "min         1.000000     80.000000      5.000000\n",
       "25%     32051.250000     86.000000     15.000000\n",
       "50%     63917.500000     88.000000     22.000000\n",
       "75%     96872.750000     91.000000     40.000000\n",
       "max    129970.000000    100.000000   3300.000000"
      ]
     },
     "execution_count": 15,
     "metadata": {},
     "output_type": "execute_result"
    }
   ],
   "source": [
    "\n",
    "# Measures of the numerical data (i.e. wines tasted by Roger Voss)\n",
    "wine_data.describe()"
   ]
  },
  {
   "cell_type": "code",
   "execution_count": 16,
   "metadata": {},
   "outputs": [
    {
     "name": "stdout",
     "output_type": "stream",
     "text": [
      "<class 'pandas.core.frame.DataFrame'>\n",
      "Int64Index: 25514 entries, 1 to 129970\n",
      "Data columns (total 14 columns):\n",
      "Unnamed: 0               25514 non-null int64\n",
      "country                  25512 non-null object\n",
      "description              25514 non-null object\n",
      "designation              17963 non-null object\n",
      "points                   25514 non-null int64\n",
      "price                    20172 non-null float64\n",
      "province                 25512 non-null object\n",
      "region_1                 18635 non-null object\n",
      "region_2                 2 non-null object\n",
      "taster_name              25514 non-null object\n",
      "taster_twitter_handle    25514 non-null object\n",
      "title                    25514 non-null object\n",
      "variety                  25514 non-null object\n",
      "winery                   25514 non-null object\n",
      "dtypes: float64(1), int64(2), object(11)\n",
      "memory usage: 2.9+ MB\n"
     ]
    }
   ],
   "source": [
    "wine_data.info()"
   ]
  },
  {
   "cell_type": "code",
   "execution_count": 17,
   "metadata": {},
   "outputs": [
    {
     "data": {
      "text/plain": [
       "Text(0.5, 1.0, 'Fig.3: Points Distribution for Wines Evaluated by Roger Voss ')"
      ]
     },
     "execution_count": 17,
     "metadata": {},
     "output_type": "execute_result"
    },
    {
     "data": {
      "image/png": "[encoded data removed]",
      "text/plain": [
       "<Figure size 576x576 with 1 Axes>"
      ]
     },
     "metadata": {
      "needs_background": "light"
     },
     "output_type": "display_data"
    }
   ],
   "source": [
    "# Distribution of points for wines Roger Voss evaluated\n",
    "sns.distplot(wine_data.points) \n",
    "plt.xlabel(\"Points\",size=15)\n",
    "plt.title(\"Fig.3: Points Distribution for Wines Evaluated by Roger Voss \", size=20)"
   ]
  },
  {
   "cell_type": "code",
   "execution_count": 18,
   "metadata": {},
   "outputs": [
    {
     "data": {
      "text/plain": [
       "Text(0.5, 0.98, 'Fig.4: Countries per bottle of Wine Evaluted by Roger Voss ')"
      ]
     },
     "execution_count": 18,
     "metadata": {},
     "output_type": "execute_result"
    },
    {
     "data": {
      "image/png": "[encoded data removed]",
      "text/plain": [
       "<Figure size 576x576 with 1 Axes>"
      ]
     },
     "metadata": {
      "needs_background": "light"
     },
     "output_type": "display_data"
    }
   ],
   "source": [
    "sns.countplot(x='country',data=wine_data, orient=\"h\")\n",
    "plt.ylabel('Country Count',size=12)\n",
    "plt.xlabel(\"Country\",size=12)\n",
    "plt.xticks(rotation=45)\n",
    "plt.suptitle(\"Fig.4: Countries per bottle of Wine Evaluted by Roger Voss \", size=20)"
   ]
  },
  {
   "cell_type": "markdown",
   "metadata": {},
   "source": [
    "From above, we see France is the country that hits the highest frequency to get evaluated per bottle of Wine by Roger Voss \n",
    "\n",
    "\n",
    "\n",
    "## Steps in Data Preprocessing\n",
    "Step 1 : Import the libraries\n",
    "Step 2 : Import the data-set\n",
    "Step 3 : Check out the missing values\n",
    "Step 4 : See the Categorical Values\n",
    "Step 5 : Splitting the data-set into Training and Test Set\n",
    "Step 6 : Feature Scaling\n",
    "\n",
    "##  When inplace=True is passed, the data is renamed in place (it returns nothing)"
   ]
  },
  {
   "cell_type": "code",
   "execution_count": 19,
   "metadata": {},
   "outputs": [
    {
     "data": {
      "text/html": [
       "<div>\n",
       "<style scoped>\n",
       "    .dataframe tbody tr th:only-of-type {\n",
       "        vertical-align: middle;\n",
       "    }\n",
       "\n",
       "    .dataframe tbody tr th {\n",
       "        vertical-align: top;\n",
       "    }\n",
       "\n",
       "    .dataframe thead th {\n",
       "        text-align: right;\n",
       "    }\n",
       "</style>\n",
       "<table border=\"1\" class=\"dataframe\">\n",
       "  <thead>\n",
       "    <tr style=\"text-align: right;\">\n",
       "      <th></th>\n",
       "      <th>Unnamed: 0</th>\n",
       "      <th>country</th>\n",
       "      <th>description</th>\n",
       "      <th>designation</th>\n",
       "      <th>points</th>\n",
       "      <th>price</th>\n",
       "      <th>province</th>\n",
       "      <th>region_1</th>\n",
       "      <th>region_2</th>\n",
       "      <th>taster_name</th>\n",
       "      <th>taster_twitter_handle</th>\n",
       "      <th>title</th>\n",
       "      <th>variety</th>\n",
       "      <th>winery</th>\n",
       "    </tr>\n",
       "  </thead>\n",
       "  <tbody>\n",
       "    <tr>\n",
       "      <th>1</th>\n",
       "      <td>1</td>\n",
       "      <td>Portugal</td>\n",
       "      <td>This is ripe and fruity, a wine that is smooth...</td>\n",
       "      <td>Avidagos</td>\n",
       "      <td>87</td>\n",
       "      <td>15.0</td>\n",
       "      <td>Douro</td>\n",
       "      <td>NaN</td>\n",
       "      <td>NaN</td>\n",
       "      <td>Roger Voss</td>\n",
       "      <td>@vossroger</td>\n",
       "      <td>Quinta dos Avidagos 2011 Avidagos Red (Douro)</td>\n",
       "      <td>Portuguese Red</td>\n",
       "      <td>Quinta dos Avidagos</td>\n",
       "    </tr>\n",
       "  </tbody>\n",
       "</table>\n",
       "</div>"
      ],
      "text/plain": [
       "   Unnamed: 0   country                                        description  \\\n",
       "1           1  Portugal  This is ripe and fruity, a wine that is smooth...   \n",
       "\n",
       "  designation  points  price province region_1 region_2 taster_name  \\\n",
       "1    Avidagos      87   15.0    Douro      NaN      NaN  Roger Voss   \n",
       "\n",
       "  taster_twitter_handle                                          title  \\\n",
       "1            @vossroger  Quinta dos Avidagos 2011 Avidagos Red (Douro)   \n",
       "\n",
       "          variety               winery  \n",
       "1  Portuguese Red  Quinta dos Avidagos  "
      ]
     },
     "execution_count": 19,
     "metadata": {},
     "output_type": "execute_result"
    }
   ],
   "source": [
    "# Rename column 'serial' to 'wine_id'\n",
    "wine_data.rename(columns={'serial':'wine_Id'}, inplace=True)\n",
    "wine_data.head(1)"
   ]
  },
  {
   "cell_type": "markdown",
   "metadata": {},
   "source": [
    "DROP DUPLICATES\n",
    "\n",
    "## DataFrame.drop_duplicates(subset=None, keep='first', inplace=False)\n",
    "[source]\n",
    "\n",
    "Return DataFrame with duplicate rows removed, optionally only considering certain columns."
   ]
  },
  {
   "cell_type": "code",
   "execution_count": 20,
   "metadata": {},
   "outputs": [],
   "source": [
    "##print(wine_data.duplicated(subset=None, keep='first').sum(),\"duplicate record(s)\")"
   ]
  },
  {
   "cell_type": "markdown",
   "metadata": {},
   "source": [
    "fEATURE EXTRACTION:\n",
    "to present the year of each wine\n",
    "\n",
    "## Series.str.extract(pat, flags=0, expand=True)\n",
    "[source]\n",
    "Extract capture groups in the regex pat as columns in a DataFrame.\n",
    "For each subject string in the Series, extract groups from the first match of regular expression pat.\n",
    "\n",
    "## expand : bool, default False\n",
    "Expand the splitted strings into separate columns.\n",
    "If True, return DataFrame/MultiIndex expanding dimensionality.\n",
    "If False, return Series/Index, containing lists of strings.\n"
   ]
  },
  {
   "cell_type": "code",
   "execution_count": 22,
   "metadata": {},
   "outputs": [],
   "source": [
    "\n",
    "wine_data['year'] = wine_data['title'].str.extract('(\\d\\d\\d\\d)', expand=True)"
   ]
  },
  {
   "cell_type": "code",
   "execution_count": 23,
   "metadata": {},
   "outputs": [
    {
     "data": {
      "text/plain": [
       "False    23867\n",
       "True      1647\n",
       "Name: year, dtype: int64"
      ]
     },
     "execution_count": 23,
     "metadata": {},
     "output_type": "execute_result"
    }
   ],
   "source": [
    "# Check to see if there are any null years\n",
    "wine_data['year'].isnull().value_counts()"
   ]
  },
  {
   "cell_type": "code",
   "execution_count": 26,
   "metadata": {},
   "outputs": [
    {
     "data": {
      "text/plain": [
       "Series([], Name: title, dtype: object)"
      ]
     },
     "execution_count": 26,
     "metadata": {},
     "output_type": "execute_result"
    }
   ],
   "source": [
    "# wines that does not have a year in the title\n",
    "#Wines without a year are classified as Non-Vintage wines\n",
    "wine_data.title[wine_data['year'].isnull()].head()"
   ]
  },
  {
   "cell_type": "markdown",
   "metadata": {},
   "source": [
    "## to ease the searches for preprocessing, convert year to int \n",
    "\n",
    "\n",
    "## pandas.to_numeric(arg, errors='raise', downcast=None)\n",
    "\n",
    "Convert argument to a numeric type. The default return dtype is float64 or int64 depending on the data supplied. Use the downcast parameter to obtain other dtypes.\n",
    "\n",
    "## errors : {‘ignore’, ‘raise’, ‘coerce’}, default ‘raise’\n",
    "If ‘coerce’, then invalid parsing will be set as NaN\n",
    "\n",
    "## DataFrame.fillna(value=None, method=None, axis=None, inplace=False, limit=None, downcast=None, **kwargs)\n",
    "df.fillna(0): Replace all NaN elements with 0s\n",
    "\n",
    "## astype(np.int64)\n",
    " to convert a column from data type float64 to int64"
   ]
  },
  {
   "cell_type": "code",
   "execution_count": 27,
   "metadata": {},
   "outputs": [],
   "source": [
    "\n",
    "wine_data.year = pd.to_numeric(wine_data.year, errors='coerce').fillna(0).astype(np.int64)"
   ]
  },
  {
   "cell_type": "code",
   "execution_count": 30,
   "metadata": {},
   "outputs": [
    {
     "name": "stdout",
     "output_type": "stream",
     "text": [
      "0 invalid year(s)\n"
     ]
    }
   ],
   "source": [
    "# check fo erroneous years (NB: its year 2018, any year above this is invalid)\n",
    "print((wine_data['year']>2018).sum(),\"invalid year(s)\")"
   ]
  },
  {
   "cell_type": "markdown",
   "metadata": {},
   "source": [
    "## Feature engineering\n",
    "if done correctly, it increases the predictive power of machine learning algorithms by creating features from raw data that help facilitate the machine learning process. ----Amit Shekhar, author at MindOrks"
   ]
  },
  {
   "cell_type": "code",
   "execution_count": 33,
   "metadata": {},
   "outputs": [],
   "source": [
    "# Applying feature engineering to create type of wine (Vintage/n\\Non-Vintage)\n",
    "# !=0 means not equal to 0\n",
    "# ==0 means equal to 0\n",
    "wine_data['type']= None\n",
    "wine_data.type[wine_data['year']!=0] = 'Vintage'\n",
    "wine_data.type[wine_data['year']==0] = 'Non-Vintage'"
   ]
  },
  {
   "cell_type": "markdown",
   "metadata": {},
   "source": [
    "## Series.str.split(pat=None, n=-1, expand=False)\n",
    "\n",
    "Splits the string in the Series/Index from the beginning, at the specified delimiter string. Equivalent to str.split().\n",
    "\n",
    "## str. split parameters\n",
    "pat : String or regular expression to split on. If not specified, split on whitespace.\n",
    "\n",
    "n : int, Limit number of splits in output. None, 0 and -1 will be interpreted as return all splits. | \n",
    "\n",
    "expand : If True, return DataFrame/MultiIndex expanding dimensionality."
   ]
  },
  {
   "cell_type": "code",
   "execution_count": 34,
   "metadata": {},
   "outputs": [],
   "source": [
    "# Create loation by feature extraction from title\n",
    "no_location = wine_data['title'].str.split('(', expand=True, n=1)\n",
    "#wine_data['location'] = no_location.str.extract('(', expand=True)\n",
    "#wine_data\n",
    "no_location=no_location[1].str.split(')', expand=True, n=1)\n",
    "wine_data['location']=no_location[0]\n",
    "\n",
    "#wine_data[wine_data['location'].isnull()==True]"
   ]
  },
  {
   "cell_type": "code",
   "execution_count": 35,
   "metadata": {},
   "outputs": [],
   "source": [
    "# impute location from region_2,region_1,province \n",
    "wine_data['location'].fillna(wine_data.region_2, inplace = True) \n",
    "wine_data['location'].fillna(wine_data.region_1, inplace = True)\n",
    "wine_data['location'].fillna(wine_data.province, inplace = True)"
   ]
  },
  {
   "cell_type": "code",
   "execution_count": 37,
   "metadata": {},
   "outputs": [
    {
     "name": "stdout",
     "output_type": "stream",
     "text": [
      "0 missing location(s) and 0 missing countries\n",
      "are attributed to 'Bordeaux' region in 'France' based on research of wine titles\n"
     ]
    }
   ],
   "source": [
    "# look for missing locations and country\n",
    "print(wine_data['location'].isnull().sum(),\"missing location(s) and\",wine_data['country'].isnull().sum(),\"missing countries\") #check for null locations\n",
    "\n",
    "#impute missing location and country from title research\n",
    "wine_data.location.fillna('Bordeaux',inplace=True)\n",
    "wine_data.country.fillna('France',inplace=True)\n",
    "\n",
    "print(\"are attributed to 'Bordeaux' region in 'France' based on research of wine titles\")"
   ]
  },
  {
   "cell_type": "code",
   "execution_count": 38,
   "metadata": {},
   "outputs": [
    {
     "name": "stdout",
     "output_type": "stream",
     "text": [
      "5342 missing price(s)\n",
      "imputed from median price\n"
     ]
    }
   ],
   "source": [
    "# look for missing prices\n",
    "print(wine_data['price'].isnull().sum(),\"missing price(s)\") #check for null prices\n",
    "\n",
    "#impute missing prices with the median price\n",
    "wine_data.price.fillna(wine_data['price'].median(),inplace=True)\n",
    "print(\"imputed from median price\")"
   ]
  },
  {
   "cell_type": "code",
   "execution_count": 40,
   "metadata": {},
   "outputs": [
    {
     "data": {
      "text/html": [
       "<div>\n",
       "<style scoped>\n",
       "    .dataframe tbody tr th:only-of-type {\n",
       "        vertical-align: middle;\n",
       "    }\n",
       "\n",
       "    .dataframe tbody tr th {\n",
       "        vertical-align: top;\n",
       "    }\n",
       "\n",
       "    .dataframe thead th {\n",
       "        text-align: right;\n",
       "    }\n",
       "</style>\n",
       "<table border=\"1\" class=\"dataframe\">\n",
       "  <thead>\n",
       "    <tr style=\"text-align: right;\">\n",
       "      <th></th>\n",
       "      <th>Unnamed: 0</th>\n",
       "      <th>country</th>\n",
       "      <th>points</th>\n",
       "      <th>price</th>\n",
       "      <th>title</th>\n",
       "      <th>variety</th>\n",
       "      <th>winery</th>\n",
       "      <th>year</th>\n",
       "      <th>type</th>\n",
       "      <th>location</th>\n",
       "    </tr>\n",
       "  </thead>\n",
       "  <tbody>\n",
       "    <tr>\n",
       "      <th>1</th>\n",
       "      <td>1</td>\n",
       "      <td>Portugal</td>\n",
       "      <td>87</td>\n",
       "      <td>15.0</td>\n",
       "      <td>Quinta dos Avidagos 2011 Avidagos Red (Douro)</td>\n",
       "      <td>Portuguese Red</td>\n",
       "      <td>Quinta dos Avidagos</td>\n",
       "      <td>2011</td>\n",
       "      <td>Vintage</td>\n",
       "      <td>Douro</td>\n",
       "    </tr>\n",
       "    <tr>\n",
       "      <th>7</th>\n",
       "      <td>7</td>\n",
       "      <td>France</td>\n",
       "      <td>87</td>\n",
       "      <td>24.0</td>\n",
       "      <td>Trimbach 2012 Gewurztraminer (Alsace)</td>\n",
       "      <td>Gewürztraminer</td>\n",
       "      <td>Trimbach</td>\n",
       "      <td>2012</td>\n",
       "      <td>Vintage</td>\n",
       "      <td>Alsace</td>\n",
       "    </tr>\n",
       "    <tr>\n",
       "      <th>9</th>\n",
       "      <td>9</td>\n",
       "      <td>France</td>\n",
       "      <td>87</td>\n",
       "      <td>27.0</td>\n",
       "      <td>Jean-Baptiste Adam 2012 Les Natures Pinot Gris...</td>\n",
       "      <td>Pinot Gris</td>\n",
       "      <td>Jean-Baptiste Adam</td>\n",
       "      <td>2012</td>\n",
       "      <td>Vintage</td>\n",
       "      <td>Alsace</td>\n",
       "    </tr>\n",
       "    <tr>\n",
       "      <th>11</th>\n",
       "      <td>11</td>\n",
       "      <td>France</td>\n",
       "      <td>87</td>\n",
       "      <td>30.0</td>\n",
       "      <td>Leon Beyer 2012 Gewurztraminer (Alsace)</td>\n",
       "      <td>Gewürztraminer</td>\n",
       "      <td>Leon Beyer</td>\n",
       "      <td>2012</td>\n",
       "      <td>Vintage</td>\n",
       "      <td>Alsace</td>\n",
       "    </tr>\n",
       "    <tr>\n",
       "      <th>30</th>\n",
       "      <td>30</td>\n",
       "      <td>France</td>\n",
       "      <td>86</td>\n",
       "      <td>22.0</td>\n",
       "      <td>Domaine de la Madone 2012 Nouveau  (Beaujolais...</td>\n",
       "      <td>Gamay</td>\n",
       "      <td>Domaine de la Madone</td>\n",
       "      <td>2012</td>\n",
       "      <td>Vintage</td>\n",
       "      <td>Beaujolais-Villages</td>\n",
       "    </tr>\n",
       "  </tbody>\n",
       "</table>\n",
       "</div>"
      ],
      "text/plain": [
       "    Unnamed: 0   country  points  price  \\\n",
       "1            1  Portugal      87   15.0   \n",
       "7            7    France      87   24.0   \n",
       "9            9    France      87   27.0   \n",
       "11          11    France      87   30.0   \n",
       "30          30    France      86   22.0   \n",
       "\n",
       "                                                title         variety  \\\n",
       "1       Quinta dos Avidagos 2011 Avidagos Red (Douro)  Portuguese Red   \n",
       "7               Trimbach 2012 Gewurztraminer (Alsace)  Gewürztraminer   \n",
       "9   Jean-Baptiste Adam 2012 Les Natures Pinot Gris...      Pinot Gris   \n",
       "11            Leon Beyer 2012 Gewurztraminer (Alsace)  Gewürztraminer   \n",
       "30  Domaine de la Madone 2012 Nouveau  (Beaujolais...           Gamay   \n",
       "\n",
       "                  winery  year     type             location  \n",
       "1    Quinta dos Avidagos  2011  Vintage                Douro  \n",
       "7               Trimbach  2012  Vintage               Alsace  \n",
       "9     Jean-Baptiste Adam  2012  Vintage               Alsace  \n",
       "11            Leon Beyer  2012  Vintage               Alsace  \n",
       "30  Domaine de la Madone  2012  Vintage  Beaujolais-Villages  "
      ]
     },
     "execution_count": 40,
     "metadata": {},
     "output_type": "execute_result"
    }
   ],
   "source": [
    "\n",
    "# Use .drop() to drop columns that are not needed\n",
    "wine_data_2 = wine_data.drop(['designation','region_1','region_2','taster_twitter_handle','description','province','taster_name'],axis=1)\n",
    "wine_data_2.head()"
   ]
  },
  {
   "cell_type": "markdown",
   "metadata": {},
   "source": [
    "## check  no missing values identified"
   ]
  },
  {
   "cell_type": "code",
   "execution_count": 42,
   "metadata": {},
   "outputs": [
    {
     "name": "stdout",
     "output_type": "stream",
     "text": [
      "<class 'pandas.core.frame.DataFrame'>\n",
      "Int64Index: 25514 entries, 1 to 129970\n",
      "Data columns (total 10 columns):\n",
      "Unnamed: 0    25514 non-null int64\n",
      "country       25514 non-null object\n",
      "points        25514 non-null int64\n",
      "price         25514 non-null float64\n",
      "title         25514 non-null object\n",
      "variety       25514 non-null object\n",
      "winery        25514 non-null object\n",
      "year          25514 non-null int64\n",
      "type          25514 non-null object\n",
      "location      25514 non-null object\n",
      "dtypes: float64(1), int64(3), object(6)\n",
      "memory usage: 2.1+ MB\n"
     ]
    }
   ],
   "source": [
    "wine_data_2.info() "
   ]
  },
  {
   "cell_type": "markdown",
   "metadata": {},
   "source": [
    "## guide for data Transformation\n",
    "\n",
    "## sklearn.preprocessing package\n",
    "LabelEncoder: Encode labels with value between 0 and n_classes-1.\n",
    "\n",
    "{} creates an empty dictionary\n",
    "\n",
    "np.issubdtype: check if numpy dtype is integral. Returns True if first argument is a typecode lower/equal in type hierarchy\n",
    "\n",
    "fit(df[column]) : Fit The Label Encoder"
   ]
  },
  {
   "cell_type": "code",
   "execution_count": 44,
   "metadata": {},
   "outputs": [],
   "source": [
    "# Label encoder transforms nominal features into numerical labels which algorithms can make sense of\n",
    "def create_label_encoder_dict(df):\n",
    "    from sklearn.preprocessing import LabelEncoder\n",
    "    \n",
    "    label_encoder_dict = {}\n",
    "    \n",
    "    for column in df.columns:\n",
    "        if not np.issubdtype(df[column].dtype, np.number) and column != 'year':\n",
    "            label_encoder_dict[column]= LabelEncoder().fit(df[column])\n",
    "    return label_encoder_dict"
   ]
  },
  {
   "cell_type": "markdown",
   "metadata": {},
   "source": []
  },
  {
   "cell_type": "code",
   "execution_count": 45,
   "metadata": {},
   "outputs": [],
   "source": [
    "label_encoders = create_label_encoder_dict(wine_data_2)\n",
    "#print(\"Encoded Values for each Label\")\n",
    "#print(\"=\"*32)\n",
    "#for column in label_encoders:\n",
    " #   print(\"=\"*32)\n",
    " #   print('Encoder(%s) = %s' % (column, label_encoders[column].classes_ ))\n",
    "  #  print(pd.DataFrame([range(0,len(label_encoders[column].classes_))], columns=label_encoders[column].classes_, index=['Encoded Values']  ).T)"
   ]
  },
  {
   "cell_type": "markdown",
   "metadata": {},
   "source": [
    "## Apply each encoder to the data set to obtain transformed values"
   ]
  },
  {
   "cell_type": "code",
   "execution_count": 46,
   "metadata": {},
   "outputs": [
    {
     "name": "stdout",
     "output_type": "stream",
     "text": [
      "Transformed data set\n",
      "================================\n"
     ]
    },
    {
     "data": {
      "text/html": [
       "<div>\n",
       "<style scoped>\n",
       "    .dataframe tbody tr th:only-of-type {\n",
       "        vertical-align: middle;\n",
       "    }\n",
       "\n",
       "    .dataframe tbody tr th {\n",
       "        vertical-align: top;\n",
       "    }\n",
       "\n",
       "    .dataframe thead th {\n",
       "        text-align: right;\n",
       "    }\n",
       "</style>\n",
       "<table border=\"1\" class=\"dataframe\">\n",
       "  <thead>\n",
       "    <tr style=\"text-align: right;\">\n",
       "      <th></th>\n",
       "      <th>Unnamed: 0</th>\n",
       "      <th>country</th>\n",
       "      <th>points</th>\n",
       "      <th>price</th>\n",
       "      <th>title</th>\n",
       "      <th>variety</th>\n",
       "      <th>winery</th>\n",
       "      <th>year</th>\n",
       "      <th>type</th>\n",
       "      <th>location</th>\n",
       "    </tr>\n",
       "  </thead>\n",
       "  <tbody>\n",
       "    <tr>\n",
       "      <th>1</th>\n",
       "      <td>1</td>\n",
       "      <td>4</td>\n",
       "      <td>87</td>\n",
       "      <td>15.0</td>\n",
       "      <td>20538</td>\n",
       "      <td>134</td>\n",
       "      <td>3685</td>\n",
       "      <td>2011</td>\n",
       "      <td>1</td>\n",
       "      <td>160</td>\n",
       "    </tr>\n",
       "    <tr>\n",
       "      <th>7</th>\n",
       "      <td>7</td>\n",
       "      <td>1</td>\n",
       "      <td>87</td>\n",
       "      <td>24.0</td>\n",
       "      <td>21846</td>\n",
       "      <td>68</td>\n",
       "      <td>3850</td>\n",
       "      <td>2012</td>\n",
       "      <td>1</td>\n",
       "      <td>7</td>\n",
       "    </tr>\n",
       "    <tr>\n",
       "      <th>9</th>\n",
       "      <td>9</td>\n",
       "      <td>1</td>\n",
       "      <td>87</td>\n",
       "      <td>27.0</td>\n",
       "      <td>15505</td>\n",
       "      <td>129</td>\n",
       "      <td>3059</td>\n",
       "      <td>2012</td>\n",
       "      <td>1</td>\n",
       "      <td>7</td>\n",
       "    </tr>\n",
       "    <tr>\n",
       "      <th>11</th>\n",
       "      <td>11</td>\n",
       "      <td>1</td>\n",
       "      <td>87</td>\n",
       "      <td>30.0</td>\n",
       "      <td>16724</td>\n",
       "      <td>68</td>\n",
       "      <td>3207</td>\n",
       "      <td>2012</td>\n",
       "      <td>1</td>\n",
       "      <td>7</td>\n",
       "    </tr>\n",
       "    <tr>\n",
       "      <th>30</th>\n",
       "      <td>30</td>\n",
       "      <td>1</td>\n",
       "      <td>86</td>\n",
       "      <td>22.0</td>\n",
       "      <td>12164</td>\n",
       "      <td>64</td>\n",
       "      <td>2629</td>\n",
       "      <td>2012</td>\n",
       "      <td>1</td>\n",
       "      <td>24</td>\n",
       "    </tr>\n",
       "  </tbody>\n",
       "</table>\n",
       "</div>"
      ],
      "text/plain": [
       "    Unnamed: 0  country  points  price  title  variety  winery  year  type  \\\n",
       "1            1        4      87   15.0  20538      134    3685  2011     1   \n",
       "7            7        1      87   24.0  21846       68    3850  2012     1   \n",
       "9            9        1      87   27.0  15505      129    3059  2012     1   \n",
       "11          11        1      87   30.0  16724       68    3207  2012     1   \n",
       "30          30        1      86   22.0  12164       64    2629  2012     1   \n",
       "\n",
       "    location  \n",
       "1        160  \n",
       "7          7  \n",
       "9          7  \n",
       "11         7  \n",
       "30        24  "
      ]
     },
     "execution_count": 46,
     "metadata": {},
     "output_type": "execute_result"
    }
   ],
   "source": [
    "wd3 = wine_data_2.copy() # create copy of initial data set\n",
    "for column in wd3.columns:\n",
    "    if column in label_encoders:\n",
    "        wd3[column] = label_encoders[column].transform(wd3[column])\n",
    "\n",
    "print(\"Transformed data set\")\n",
    "print(\"=\"*32)\n",
    "wd3.head()"
   ]
  },
  {
   "cell_type": "markdown",
   "metadata": {},
   "source": [
    "## data mining\n",
    "\n",
    "## sklearn.model_selection.cross_validate\n",
    "Evaluate metric(s) by cross-validation and also record fit/score times \n",
    "\n",
    "(estimator, X, y=None, groups=None, scoring=None, cv=’warn’, n_jobs=None, verbose=0, fit_params=None, pre_dispatch=‘2*n_jobs’, return_train_score=’warn’, return_estimator=False, error_score=’raise-deprecating’)\n",
    "\n",
    "## class sklearn.model_selection.KFold\n",
    "(n_splits=’warn’, shuffle=False, random_state=None)\n",
    "\n",
    "Provides train/test indices to split data in train/test sets. Split dataset into k consecutive folds (without shuffling by default).\n",
    "Each fold is then used once as a validation while the k - 1 remaining folds form the training set."
   ]
  },
  {
   "cell_type": "code",
   "execution_count": 50,
   "metadata": {},
   "outputs": [],
   "source": [
    "# Function to do K-Fold Cross Validation\n",
    "def cross_validate(x,y,kf_split):\n",
    "    from sklearn.model_selection import KFold\n",
    "    \n",
    "    #K-Fold Cross Validation\n",
    "    kf =KFold(n_splits=kf_split,shuffle=True,random_state=1)\n",
    "    \n",
    "    for train_index, test_index in kf.split(x):\n",
    "        X_train, X_test = x.iloc[train_index], x.iloc[test_index]\n",
    "        y_train, y_test = y.iloc[train_index], y.iloc[test_index]\n",
    "        \n",
    "    return [X_train,y_train,X_test,y_test]"
   ]
  },
  {
   "cell_type": "markdown",
   "metadata": {},
   "source": [
    "## DecisionTreeRegressor\n",
    "## random_state=1\n",
    " random_state is the random number generator\n",
    " "
   ]
  },
  {
   "cell_type": "markdown",
   "metadata": {},
   "source": [
    "## MLPRegressor\n",
    "Multi-layer Perceptron regressor.\n",
    "This model optimizes the squared-loss using LBFGS or stochastic gradient descent.\n",
    "\n",
    "## adam solver \n",
    "‘adam’ refers to a stochastic gradient-based optimizer proposed by Kingma, Diederik, and Jimmy Ba. works pretty well on relatively large datasets (with thousands of training samples or more) in terms of both training time and validation score. For small datasets, ‘lbfgs’ can converge faster and perform better.\n",
    "\n",
    "{‘lbfgs’, ‘sgd’, ‘adam’}, default ‘adam’\n",
    "\n",
    "\n",
    "## alpha : float, optional, default 0.0001\n",
    "L2 penalty (regularization term) parameter\n",
    "\n",
    "## ‘relu’ activation\n",
    "‘relu’, the rectified linear unit function, returns f(x) = max(0, x)\n",
    "Activation function for the hidden layer:{‘identity’, ‘logistic’, ‘tanh’, ‘relu’}\n"
   ]
  },
  {
   "cell_type": "code",
   "execution_count": 51,
   "metadata": {},
   "outputs": [],
   "source": [
    "# Algorithms without Hyper Parameter Tuning\n",
    "def pred_techniques(x,y,kf_split): \n",
    "    from sklearn.tree import DecisionTreeRegressor\n",
    "    from sklearn.neural_network import MLPRegressor\n",
    "\n",
    "    train_test = cross_validate(x,y,kf_split) #perform kfold cross validation\n",
    "\n",
    "    # Decision Tree Regressor\n",
    "    reg = DecisionTreeRegressor(random_state=1) \n",
    "    reg.fit(train_test[0], train_test[1])\n",
    "    \n",
    "    \n",
    "    # Multi-Layer Perceptron Regressor\n",
    "    clf = MLPRegressor(solver='adam', alpha=1e-5, activation='relu',learning_rate_init =0.01,shuffle=True,\n",
    "                    hidden_layer_sizes=(7, 4),random_state=1)\n",
    "    clf.fit(train_test[0],train_test[1])\n",
    "    \n",
    "    return [reg,clf,train_test[2],train_test[3],train_test[0],train_test[1]]"
   ]
  },
  {
   "cell_type": "code",
   "execution_count": 52,
   "metadata": {},
   "outputs": [
    {
     "name": "stdout",
     "output_type": "stream",
     "text": [
      "Fig.5: Feature Significance\n"
     ]
    },
    {
     "data": {
      "text/html": [
       "<div>\n",
       "<style scoped>\n",
       "    .dataframe tbody tr th:only-of-type {\n",
       "        vertical-align: middle;\n",
       "    }\n",
       "\n",
       "    .dataframe tbody tr th {\n",
       "        vertical-align: top;\n",
       "    }\n",
       "\n",
       "    .dataframe thead th {\n",
       "        text-align: right;\n",
       "    }\n",
       "</style>\n",
       "<table border=\"1\" class=\"dataframe\">\n",
       "  <thead>\n",
       "    <tr style=\"text-align: right;\">\n",
       "      <th></th>\n",
       "      <th>Feature Significance in Decision Tree</th>\n",
       "    </tr>\n",
       "  </thead>\n",
       "  <tbody>\n",
       "    <tr>\n",
       "      <th>variety</th>\n",
       "      <td>17.31%</td>\n",
       "    </tr>\n",
       "    <tr>\n",
       "      <th>winery</th>\n",
       "      <td>34.28%</td>\n",
       "    </tr>\n",
       "    <tr>\n",
       "      <th>location</th>\n",
       "      <td>31.78%</td>\n",
       "    </tr>\n",
       "    <tr>\n",
       "      <th>year</th>\n",
       "      <td>16.63%</td>\n",
       "    </tr>\n",
       "  </tbody>\n",
       "</table>\n",
       "</div>"
      ],
      "text/plain": [
       "         Feature Significance in Decision Tree\n",
       "variety                                 17.31%\n",
       "winery                                  34.28%\n",
       "location                                31.78%\n",
       "year                                    16.63%"
      ]
     },
     "execution_count": 52,
     "metadata": {},
     "output_type": "execute_result"
    }
   ],
   "source": [
    "# separate data into dependent (Y) and independent(X) variables\n",
    "feature_cols =  ['variety','winery','location', 'year']\n",
    "x_data = wd3[feature_cols]\n",
    "y_data = wd3['points']\n",
    "\n",
    "l = pred_techniques(x_data,y_data,100)\n",
    "print(\"Fig.5: Feature Significance\") \n",
    "pd.DataFrame([ \"%.2f%%\" % perc for perc in (l[0].feature_importances_ * 100) ], index = x_data.columns, columns = ['Feature Significance in Decision Tree'])"
   ]
  },
  {
   "cell_type": "markdown",
   "metadata": {},
   "source": [
    "## Interpretation/Evaluation\n",
    "\n",
    "## score(X, y[, sample_weight])\n",
    "Returns the coefficient of determination R^2 of the prediction."
   ]
  },
  {
   "cell_type": "code",
   "execution_count": 53,
   "metadata": {},
   "outputs": [
    {
     "name": "stdout",
     "output_type": "stream",
     "text": [
      "Decision Tree Regressor\n",
      "================================\n",
      "R Square: 0.2782758795086844\n",
      "\n",
      "Multi-Layer Perceptron Regressor\n",
      "================================\n",
      "R Square: 0.02065691899302291\n"
     ]
    }
   ],
   "source": [
    "# Accuracy Test Scores of both techniques \n",
    "r2_tree = l[0].score(l[2],l[3])\n",
    "r2_nn = l[1].score(l[2],l[3])\n",
    "\n",
    "print(\"Decision Tree Regressor\")\n",
    "print(\"=\"*32)\n",
    "print(\"R Square:\",r2_tree )\n",
    "\n",
    "\n",
    "print(\"\\nMulti-Layer Perceptron Regressor\")\n",
    "print(\"=\"*32)\n",
    "print(\"R Square:\",r2_nn)"
   ]
  },
  {
   "cell_type": "code",
   "execution_count": 54,
   "metadata": {},
   "outputs": [
    {
     "name": "stdout",
     "output_type": "stream",
     "text": [
      "Fig.6: Actual Points and Predicted Points yielded from both Models\n"
     ]
    },
    {
     "data": {
      "text/html": [
       "<div>\n",
       "<style scoped>\n",
       "    .dataframe tbody tr th:only-of-type {\n",
       "        vertical-align: middle;\n",
       "    }\n",
       "\n",
       "    .dataframe tbody tr th {\n",
       "        vertical-align: top;\n",
       "    }\n",
       "\n",
       "    .dataframe thead th {\n",
       "        text-align: right;\n",
       "    }\n",
       "</style>\n",
       "<table border=\"1\" class=\"dataframe\">\n",
       "  <thead>\n",
       "    <tr style=\"text-align: right;\">\n",
       "      <th></th>\n",
       "      <th>variety</th>\n",
       "      <th>winery</th>\n",
       "      <th>location</th>\n",
       "      <th>year</th>\n",
       "      <th>Actual Points</th>\n",
       "      <th>Dec_Tree_Reg</th>\n",
       "      <th>MLP_Regressor</th>\n",
       "    </tr>\n",
       "  </thead>\n",
       "  <tbody>\n",
       "    <tr>\n",
       "      <th>96</th>\n",
       "      <td>64</td>\n",
       "      <td>2977</td>\n",
       "      <td>324</td>\n",
       "      <td>2015</td>\n",
       "      <td>88</td>\n",
       "      <td>87.0</td>\n",
       "      <td>88.700308</td>\n",
       "    </tr>\n",
       "    <tr>\n",
       "      <th>151</th>\n",
       "      <td>137</td>\n",
       "      <td>2980</td>\n",
       "      <td>1</td>\n",
       "      <td>2014</td>\n",
       "      <td>91</td>\n",
       "      <td>90.0</td>\n",
       "      <td>87.549230</td>\n",
       "    </tr>\n",
       "    <tr>\n",
       "      <th>887</th>\n",
       "      <td>137</td>\n",
       "      <td>3346</td>\n",
       "      <td>160</td>\n",
       "      <td>2009</td>\n",
       "      <td>90</td>\n",
       "      <td>87.0</td>\n",
       "      <td>88.542322</td>\n",
       "    </tr>\n",
       "    <tr>\n",
       "      <th>1339</th>\n",
       "      <td>153</td>\n",
       "      <td>2314</td>\n",
       "      <td>113</td>\n",
       "      <td>2016</td>\n",
       "      <td>90</td>\n",
       "      <td>88.0</td>\n",
       "      <td>88.596324</td>\n",
       "    </tr>\n",
       "    <tr>\n",
       "      <th>1377</th>\n",
       "      <td>137</td>\n",
       "      <td>3640</td>\n",
       "      <td>160</td>\n",
       "      <td>2007</td>\n",
       "      <td>86</td>\n",
       "      <td>83.0</td>\n",
       "      <td>88.389821</td>\n",
       "    </tr>\n",
       "  </tbody>\n",
       "</table>\n",
       "</div>"
      ],
      "text/plain": [
       "      variety  winery  location  year  Actual Points  Dec_Tree_Reg  \\\n",
       "96         64    2977       324  2015             88          87.0   \n",
       "151       137    2980         1  2014             91          90.0   \n",
       "887       137    3346       160  2009             90          87.0   \n",
       "1339      153    2314       113  2016             90          88.0   \n",
       "1377      137    3640       160  2007             86          83.0   \n",
       "\n",
       "      MLP_Regressor  \n",
       "96        88.700308  \n",
       "151       87.549230  \n",
       "887       88.542322  \n",
       "1339      88.596324  \n",
       "1377      88.389821  "
      ]
     },
     "execution_count": 54,
     "metadata": {},
     "output_type": "execute_result"
    }
   ],
   "source": [
    "\n",
    "# Actual points and Predicted points by both models plus 4 predictor variables on left\n",
    "results= l[2].copy()\n",
    "results['Actual Points']=l[3]\n",
    "pred_tree=l[0].predict(l[2])\n",
    "pred_mlp=l[1].predict(l[2])\n",
    "results['Dec_Tree_Reg']=pred_tree\n",
    "results['MLP_Regressor']=pred_mlp\n",
    "print(\"Fig.6: Actual Points and Predicted Points yielded from both Models\")\n",
    "results.head()"
   ]
  },
  {
   "cell_type": "code",
   "execution_count": 55,
   "metadata": {},
   "outputs": [
    {
     "name": "stdout",
     "output_type": "stream",
     "text": [
      "Decision Tree Regressor\n",
      "================================\n",
      "MSE: 6.511155827763204\n",
      "RMSE: 2.551696656690055\n",
      "MAE: 1.7793059446000625\n",
      "\n",
      "Multi-Layer Perceptron Regressor\n",
      "================================\n",
      "MSE: 8.835308711779268\n",
      "RMSE: 2.9724247192787354\n",
      "MAE: 2.446113699775014\n"
     ]
    }
   ],
   "source": [
    "# Calculate Variance in both models\n",
    "mse_treg = mean_squared_error(l[3],pred_tree)\n",
    "mse_nn = mean_squared_error(l[3],pred_mlp)\n",
    "\n",
    "# Calculate Standard Deviation in both models\n",
    "rmse_treg = math.sqrt(mean_squared_error(l[3],pred_tree))\n",
    "rmse_nn = math.sqrt(mean_squared_error(l[3],pred_mlp))\n",
    "\n",
    "# Calcualte Mean Absolute Error in both models\n",
    "mae_treg = mean_absolute_error(l[3],pred_tree)\n",
    "mae_nn = mean_absolute_error(l[3],pred_mlp)\n",
    "\n",
    "# Print evaluation metrics of both models\n",
    "print(\"Decision Tree Regressor\")\n",
    "print(\"=\"*32)\n",
    "print(\"MSE:\",mse_treg)\n",
    "print(\"RMSE:\",rmse_treg)\n",
    "print(\"MAE:\",mae_treg)\n",
    "\n",
    "print(\"\\nMulti-Layer Perceptron Regressor\")\n",
    "print(\"=\"*32)\n",
    "print(\"MSE:\",mse_nn)\n",
    "print(\"RMSE:\",rmse_nn)\n",
    "print(\"MAE:\",mae_nn)"
   ]
  },
  {
   "cell_type": "code",
   "execution_count": 56,
   "metadata": {},
   "outputs": [
    {
     "name": "stdout",
     "output_type": "stream",
     "text": [
      "Neural Network Number of Perfect Predictions:\n"
     ]
    },
    {
     "data": {
      "text/plain": [
       "0"
      ]
     },
     "execution_count": 56,
     "metadata": {},
     "output_type": "execute_result"
    }
   ],
   "source": [
    "print(\"Neural Network Number of Perfect Predictions:\")\n",
    "results[results['MLP_Regressor']==results['Actual Points']].MLP_Regressor.count()"
   ]
  },
  {
   "cell_type": "code",
   "execution_count": 58,
   "metadata": {},
   "outputs": [
    {
     "data": {
      "text/plain": [
       "Text(0.5, 1.0, 'Fig.7: Actual Points vs Decision Tree Predicted Points')"
      ]
     },
     "execution_count": 58,
     "metadata": {},
     "output_type": "execute_result"
    },
    {
     "data": {
      "image/png": "[encoded data removed]",
      "text/plain": [
       "<Figure size 576x576 with 1 Axes>"
      ]
     },
     "metadata": {
      "needs_background": "light"
     },
     "output_type": "display_data"
    }
   ],
   "source": [
    "sns.distplot( results[\"Actual Points\"] , color=\"skyblue\", label=\"Actual Points\")\n",
    "sns.distplot( results[\"Dec_Tree_Reg\"] , color=\"orange\", label=\"Decision Tree Predicted Points\")\n",
    "plt.legend()\n",
    "plt.xlabel(\"Points\",size=15)\n",
    "plt.title(\"Fig.7: Actual Points vs Decision Tree Predicted Points\", size=20)"
   ]
  },
  {
   "cell_type": "code",
   "execution_count": 59,
   "metadata": {},
   "outputs": [
    {
     "data": {
      "text/plain": [
       "Text(0.5, 1.0, 'Fig.8: Actual Points vs Neural Network Predicted Points')"
      ]
     },
     "execution_count": 59,
     "metadata": {},
     "output_type": "execute_result"
    },
    {
     "data": {
      "image/png": "[encoded data removed]",
      "text/plain": [
       "<Figure size 576x576 with 1 Axes>"
      ]
     },
     "metadata": {
      "needs_background": "light"
     },
     "output_type": "display_data"
    }
   ],
   "source": [
    "\n",
    "sns.distplot( results[\"Actual Points\"] , color=\"skyblue\", label=\"Actual Points\")\n",
    "sns.distplot( results[\"MLP_Regressor\"] , color=\"red\", label=\"NN Predicted Points\")\n",
    "plt.legend()\n",
    "plt.xlabel(\"Points\",size=15)\n",
    "plt.title(\"Fig.8: Actual Points vs Neural Network Predicted Points\", size=20)"
   ]
  },
  {
   "cell_type": "code",
   "execution_count": 60,
   "metadata": {},
   "outputs": [
    {
     "name": "stdout",
     "output_type": "stream",
     "text": [
      "Fig.9: Summary of Evaluation Metrics\n"
     ]
    },
    {
     "data": {
      "text/html": [
       "<div>\n",
       "<style scoped>\n",
       "    .dataframe tbody tr th:only-of-type {\n",
       "        vertical-align: middle;\n",
       "    }\n",
       "\n",
       "    .dataframe tbody tr th {\n",
       "        vertical-align: top;\n",
       "    }\n",
       "\n",
       "    .dataframe thead th {\n",
       "        text-align: right;\n",
       "    }\n",
       "</style>\n",
       "<table border=\"1\" class=\"dataframe\">\n",
       "  <thead>\n",
       "    <tr style=\"text-align: right;\">\n",
       "      <th></th>\n",
       "      <th>R_Square</th>\n",
       "      <th>MSE</th>\n",
       "      <th>RMSE</th>\n",
       "      <th>MAE</th>\n",
       "    </tr>\n",
       "  </thead>\n",
       "  <tbody>\n",
       "    <tr>\n",
       "      <th>Dec Tree Reg</th>\n",
       "      <td>0.278276</td>\n",
       "      <td>6.511156</td>\n",
       "      <td>2.551697</td>\n",
       "      <td>1.779306</td>\n",
       "    </tr>\n",
       "    <tr>\n",
       "      <th>MLP Reg</th>\n",
       "      <td>0.020657</td>\n",
       "      <td>8.835309</td>\n",
       "      <td>2.972425</td>\n",
       "      <td>2.446114</td>\n",
       "    </tr>\n",
       "  </tbody>\n",
       "</table>\n",
       "</div>"
      ],
      "text/plain": [
       "              R_Square       MSE      RMSE       MAE\n",
       "Dec Tree Reg  0.278276  6.511156  2.551697  1.779306\n",
       "MLP Reg       0.020657  8.835309  2.972425  2.446114"
      ]
     },
     "execution_count": 60,
     "metadata": {},
     "output_type": "execute_result"
    }
   ],
   "source": [
    "print(\"Fig.9: Summary of Evaluation Metrics\")\n",
    "pd.DataFrame(dict(R_Square= [r2_tree,r2_nn],\n",
    "                  MSE=[mse_treg,mse_nn], RMSE=[rmse_treg,rmse_nn],MAE=[mae_treg,mae_nn]),\n",
    "                index=['Dec Tree Reg','MLP Reg'])"
   ]
  },
  {
   "cell_type": "code",
   "execution_count": null,
   "metadata": {},
   "outputs": [],
   "source": []
  }
 ],
 "metadata": {
  "kernelspec": {
   "display_name": "Python 3",
   "language": "python",
   "name": "python3"
  },
  "language_info": {
   "codemirror_mode": {
    "name": "ipython",
    "version": 3
   },
   "file_extension": ".py",
   "mimetype": "text/x-python",
   "name": "python",
   "nbconvert_exporter": "python",
   "pygments_lexer": "ipython3",
   "version": "3.6.7"
  }
 },
 "nbformat": 4,
 "nbformat_minor": 2
}
